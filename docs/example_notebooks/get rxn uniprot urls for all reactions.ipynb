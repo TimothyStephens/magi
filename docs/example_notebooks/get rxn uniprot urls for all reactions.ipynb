{
 "cells": [
  {
   "cell_type": "markdown",
   "metadata": {},
   "source": [
    "# Not all MetaCyc reactions have a uniprot in the smartsheets\n",
    "\n",
    "You have to loop through the reactions and go to the reaction webpage.  Then get the genes and go to the gene web pages and get the uniprot urls from there."
   ]
  },
  {
   "cell_type": "markdown",
   "metadata": {},
   "source": [
    "For this url\n",
    "\n",
    "```\n",
    "https://biocyc.org/META/NEW-IMAGE?type=REACTION&object=RXN-15199\n",
    "```\n",
    "\n",
    "you can save it as html and the only instances of \"gene?\" point to metacyc gene pages like this:\n",
    "\n",
    "```\n",
    "https://biocyc.org/gene?orgid=META&id=SCO5091\n",
    "```\n",
    "\n",
    "uniprot links can be instantly found from the html by searching for \"http://www.uniprot.org/uniprot/\""
   ]
  },
  {
   "cell_type": "code",
   "execution_count": null,
   "metadata": {
    "collapsed": true
   },
   "outputs": [],
   "source": []
  }
 ],
 "metadata": {
  "anaconda-cloud": {},
  "kernelspec": {
   "display_name": "Python [default]",
   "language": "python",
   "name": "python3"
  },
  "language_info": {
   "codemirror_mode": {
    "name": "ipython",
    "version": 3
   },
   "file_extension": ".py",
   "mimetype": "text/x-python",
   "name": "python",
   "nbconvert_exporter": "python",
   "pygments_lexer": "ipython3",
   "version": "3.5.2"
  }
 },
 "nbformat": 4,
 "nbformat_minor": 2
}
